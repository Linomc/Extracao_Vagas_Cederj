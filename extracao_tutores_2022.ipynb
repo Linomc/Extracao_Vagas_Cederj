{
 "cells": [
  {
   "cell_type": "code",
   "execution_count": 10,
   "id": "d733c794-3ac1-4d73-ac3a-f38bc658497c",
   "metadata": {},
   "outputs": [],
   "source": [
    "import pdfplumber\n",
    "from pandas import DataFrame"
   ]
  },
  {
   "cell_type": "code",
   "execution_count": 81,
   "id": "725b75c1-58d6-4d14-91f5-1fb0ee696080",
   "metadata": {},
   "outputs": [],
   "source": [
    "arquivo = '2022_Edital_tutores.pdf'"
   ]
  },
  {
   "cell_type": "code",
   "execution_count": 82,
   "id": "a7713ed7-b3c4-42fe-979f-2f5772020dd9",
   "metadata": {},
   "outputs": [],
   "source": [
    "with pdfplumber.open(arquivo) as pdf:\n",
    "    vagas_mat = [cel for pag in pdf.pages\n",
    "                for cel in pag.extract_table()[2:]\n",
    "                if cel[1]=='Matemática']"
   ]
  },
  {
   "cell_type": "code",
   "execution_count": 83,
   "id": "a0378e8f-d647-4a2e-8c76-788e9ee79d24",
   "metadata": {},
   "outputs": [
    {
     "data": {
      "text/plain": [
       "22"
      ]
     },
     "execution_count": 83,
     "metadata": {},
     "output_type": "execute_result"
    }
   ],
   "source": [
    "len(vagas_mat)"
   ]
  },
  {
   "cell_type": "code",
   "execution_count": 84,
   "id": "beaea271-9a36-47d7-a210-41ce63ef49cd",
   "metadata": {},
   "outputs": [],
   "source": [
    "colunas = ['Polo', 'Disciplina', 'quantidade', 'tipo', 'Local de Prova']"
   ]
  },
  {
   "cell_type": "code",
   "execution_count": 85,
   "id": "8a0072ca-df0e-4fb5-ae5d-d25b602b803f",
   "metadata": {},
   "outputs": [],
   "source": [
    "df_vagas_mat = DataFrame(vagas_mat, columns=colunas)"
   ]
  },
  {
   "cell_type": "code",
   "execution_count": 101,
   "id": "936ec076-c7a6-4931-8096-b69c90d41240",
   "metadata": {},
   "outputs": [
    {
     "data": {
      "text/html": [
       "<div>\n",
       "<style scoped>\n",
       "    .dataframe tbody tr th:only-of-type {\n",
       "        vertical-align: middle;\n",
       "    }\n",
       "\n",
       "    .dataframe tbody tr th {\n",
       "        vertical-align: top;\n",
       "    }\n",
       "\n",
       "    .dataframe thead th {\n",
       "        text-align: right;\n",
       "    }\n",
       "</style>\n",
       "<table border=\"1\" class=\"dataframe\">\n",
       "  <thead>\n",
       "    <tr style=\"text-align: right;\">\n",
       "      <th></th>\n",
       "      <th>Polo</th>\n",
       "      <th>Disciplina</th>\n",
       "      <th>quantidade</th>\n",
       "      <th>tipo</th>\n",
       "      <th>Local de Prova</th>\n",
       "    </tr>\n",
       "  </thead>\n",
       "  <tbody>\n",
       "    <tr>\n",
       "      <th>0</th>\n",
       "      <td>Angra dos Reis</td>\n",
       "      <td>Matemática</td>\n",
       "      <td>1</td>\n",
       "      <td>TP</td>\n",
       "      <td>Angra dos Reis – Polo CEDERJ</td>\n",
       "    </tr>\n",
       "    <tr>\n",
       "      <th>1</th>\n",
       "      <td>Araruama</td>\n",
       "      <td>Matemática</td>\n",
       "      <td>1</td>\n",
       "      <td>TP</td>\n",
       "      <td>São Pedro da Aldeia – Polo CEDERJ</td>\n",
       "    </tr>\n",
       "    <tr>\n",
       "      <th>2</th>\n",
       "      <td>Bom Jardim</td>\n",
       "      <td>Matemática</td>\n",
       "      <td>1</td>\n",
       "      <td>TP</td>\n",
       "      <td>Bom Jardim – endereço à definir</td>\n",
       "    </tr>\n",
       "    <tr>\n",
       "      <th>3</th>\n",
       "      <td>Búzios</td>\n",
       "      <td>Matemática</td>\n",
       "      <td>1</td>\n",
       "      <td>TP</td>\n",
       "      <td>São Pedro da Aldeia – Polo CEDERJ</td>\n",
       "    </tr>\n",
       "    <tr>\n",
       "      <th>4</th>\n",
       "      <td>Cabo Frio 2</td>\n",
       "      <td>Matemática</td>\n",
       "      <td>1</td>\n",
       "      <td>TP</td>\n",
       "      <td>São Pedro da Aldeia – Polo CEDERJ</td>\n",
       "    </tr>\n",
       "    <tr>\n",
       "      <th>5</th>\n",
       "      <td>Campo Grande – Sarah\\nKubistchek</td>\n",
       "      <td>Matemática</td>\n",
       "      <td>1</td>\n",
       "      <td>TP</td>\n",
       "      <td>Rio de Janeiro – município</td>\n",
       "    </tr>\n",
       "    <tr>\n",
       "      <th>6</th>\n",
       "      <td>Campos dos Coytacazes</td>\n",
       "      <td>Matemática</td>\n",
       "      <td>1</td>\n",
       "      <td>TP</td>\n",
       "      <td>Campos dos Coytacazes – UENF</td>\n",
       "    </tr>\n",
       "    <tr>\n",
       "      <th>7</th>\n",
       "      <td>Carmo</td>\n",
       "      <td>Matemática</td>\n",
       "      <td>1</td>\n",
       "      <td>TP</td>\n",
       "      <td>Carmo – endereço à definir</td>\n",
       "    </tr>\n",
       "    <tr>\n",
       "      <th>8</th>\n",
       "      <td>Duque de Caxias – Pilar</td>\n",
       "      <td>Matemática</td>\n",
       "      <td>1</td>\n",
       "      <td>TP</td>\n",
       "      <td>Rio de Janeiro – município</td>\n",
       "    </tr>\n",
       "  </tbody>\n",
       "</table>\n",
       "</div>"
      ],
      "text/plain": [
       "                               Polo  ...                     Local de Prova\n",
       "0                    Angra dos Reis  ...       Angra dos Reis – Polo CEDERJ\n",
       "1                          Araruama  ...  São Pedro da Aldeia – Polo CEDERJ\n",
       "2                        Bom Jardim  ...    Bom Jardim – endereço à definir\n",
       "3                            Búzios  ...  São Pedro da Aldeia – Polo CEDERJ\n",
       "4                       Cabo Frio 2  ...  São Pedro da Aldeia – Polo CEDERJ\n",
       "5  Campo Grande – Sarah\\nKubistchek  ...         Rio de Janeiro – município\n",
       "6             Campos dos Coytacazes  ...       Campos dos Coytacazes – UENF\n",
       "7                             Carmo  ...         Carmo – endereço à definir\n",
       "8           Duque de Caxias – Pilar  ...         Rio de Janeiro – município\n",
       "\n",
       "[9 rows x 5 columns]"
      ]
     },
     "execution_count": 101,
     "metadata": {},
     "output_type": "execute_result"
    }
   ],
   "source": [
    "df_vagas_mat.head(9)"
   ]
  },
  {
   "cell_type": "code",
   "execution_count": 107,
   "id": "f12ae9b3-79b2-4332-81df-04e06dd47ca2",
   "metadata": {},
   "outputs": [
    {
     "data": {
      "text/html": [
       "<div>\n",
       "<style scoped>\n",
       "    .dataframe tbody tr th:only-of-type {\n",
       "        vertical-align: middle;\n",
       "    }\n",
       "\n",
       "    .dataframe tbody tr th {\n",
       "        vertical-align: top;\n",
       "    }\n",
       "\n",
       "    .dataframe thead th {\n",
       "        text-align: right;\n",
       "    }\n",
       "</style>\n",
       "<table border=\"1\" class=\"dataframe\">\n",
       "  <thead>\n",
       "    <tr style=\"text-align: right;\">\n",
       "      <th></th>\n",
       "      <th>Polo</th>\n",
       "      <th>Disciplina</th>\n",
       "      <th>quantidade</th>\n",
       "      <th>tipo</th>\n",
       "      <th>Local de Prova</th>\n",
       "    </tr>\n",
       "  </thead>\n",
       "  <tbody>\n",
       "    <tr>\n",
       "      <th>5</th>\n",
       "      <td>Campo Grande – Sarah\\nKubistchek</td>\n",
       "      <td>Matemática</td>\n",
       "      <td>1</td>\n",
       "      <td>TP</td>\n",
       "      <td>Rio de Janeiro – município</td>\n",
       "    </tr>\n",
       "    <tr>\n",
       "      <th>8</th>\n",
       "      <td>Duque de Caxias – Pilar</td>\n",
       "      <td>Matemática</td>\n",
       "      <td>1</td>\n",
       "      <td>TP</td>\n",
       "      <td>Rio de Janeiro – município</td>\n",
       "    </tr>\n",
       "    <tr>\n",
       "      <th>9</th>\n",
       "      <td>Ilha do Governador</td>\n",
       "      <td>Matemática</td>\n",
       "      <td>1</td>\n",
       "      <td>TP</td>\n",
       "      <td>Rio de Janeiro – município</td>\n",
       "    </tr>\n",
       "    <tr>\n",
       "      <th>10</th>\n",
       "      <td>Itaguaí</td>\n",
       "      <td>Matemática</td>\n",
       "      <td>1</td>\n",
       "      <td>TP</td>\n",
       "      <td>Rio de Janeiro – município</td>\n",
       "    </tr>\n",
       "    <tr>\n",
       "      <th>11</th>\n",
       "      <td>Mesquita</td>\n",
       "      <td>Matemática</td>\n",
       "      <td>1</td>\n",
       "      <td>TP</td>\n",
       "      <td>Rio de Janeiro – município</td>\n",
       "    </tr>\n",
       "    <tr>\n",
       "      <th>13</th>\n",
       "      <td>Penha</td>\n",
       "      <td>Matemática</td>\n",
       "      <td>1</td>\n",
       "      <td>TP</td>\n",
       "      <td>Rio de Janeiro – município</td>\n",
       "    </tr>\n",
       "    <tr>\n",
       "      <th>17</th>\n",
       "      <td>São Cristóvão</td>\n",
       "      <td>Matemática</td>\n",
       "      <td>1</td>\n",
       "      <td>TP</td>\n",
       "      <td>Rio de Janeiro – município</td>\n",
       "    </tr>\n",
       "    <tr>\n",
       "      <th>21</th>\n",
       "      <td>Vila Isabel</td>\n",
       "      <td>Matemática</td>\n",
       "      <td>1</td>\n",
       "      <td>TP</td>\n",
       "      <td>Rio de Janeiro – município</td>\n",
       "    </tr>\n",
       "  </tbody>\n",
       "</table>\n",
       "</div>"
      ],
      "text/plain": [
       "                                Polo  ...              Local de Prova\n",
       "5   Campo Grande – Sarah\\nKubistchek  ...  Rio de Janeiro – município\n",
       "8            Duque de Caxias – Pilar  ...  Rio de Janeiro – município\n",
       "9                 Ilha do Governador  ...  Rio de Janeiro – município\n",
       "10                           Itaguaí  ...  Rio de Janeiro – município\n",
       "11                          Mesquita  ...  Rio de Janeiro – município\n",
       "13                             Penha  ...  Rio de Janeiro – município\n",
       "17                     São Cristóvão  ...  Rio de Janeiro – município\n",
       "21                       Vila Isabel  ...  Rio de Janeiro – município\n",
       "\n",
       "[8 rows x 5 columns]"
      ]
     },
     "execution_count": 107,
     "metadata": {},
     "output_type": "execute_result"
    }
   ],
   "source": [
    "df_vagas_mat.loc[df_vagas_mat['Local de Prova']=='Rio de Janeiro – município']"
   ]
  }
 ],
 "metadata": {
  "kernelspec": {
   "display_name": "Python 3 (ipykernel)",
   "language": "python",
   "name": "python3"
  },
  "language_info": {
   "codemirror_mode": {
    "name": "ipython",
    "version": 3
   },
   "file_extension": ".py",
   "mimetype": "text/x-python",
   "name": "python",
   "nbconvert_exporter": "python",
   "pygments_lexer": "ipython3",
   "version": "3.10.12"
  }
 },
 "nbformat": 4,
 "nbformat_minor": 5
}
