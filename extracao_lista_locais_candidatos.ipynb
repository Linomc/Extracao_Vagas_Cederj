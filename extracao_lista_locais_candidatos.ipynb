{
 "cells": [
  {
   "cell_type": "markdown",
   "id": "fcfa054b-93eb-4b3a-86ea-40f017667ca3",
   "metadata": {},
   "source": [
    "# Esse Caderno busca a informação da quantidade de inscritos por vaga"
   ]
  },
  {
   "cell_type": "markdown",
   "id": "735a8d2d-5c29-4082-9af0-15a42bcd8933",
   "metadata": {},
   "source": [
    "O documento pdf utilizado foi a listagem de locais de prova da 1ª fase dos candidatos\n",
    "\n",
    "- documento público que pode ser acessado nesse link:\n",
    "    - [listagem]('https://www.cecierj.edu.br/wp-content/uploads/2022/02/Locais-de-prova-PVS-2022-Listagem-para-site.pdf')\n",
    "    - A listagem acima, possui 45 páginas e tem todos os candidatos que pagaram a inscrição no concurso de 2022"
   ]
  },
  {
   "cell_type": "code",
   "execution_count": 1,
   "id": "7aada691-5275-443c-8034-34182b47efb0",
   "metadata": {},
   "outputs": [],
   "source": [
    "arquivo = '2022_lista_Locais-de-prova_candidatos.pdf'"
   ]
  },
  {
   "cell_type": "markdown",
   "id": "b06818ac-2deb-4bb3-8bb7-f5fd0a52d2bf",
   "metadata": {},
   "source": [
    "### Importando as bibliotecas que serão utilizadas"
   ]
  },
  {
   "cell_type": "code",
   "execution_count": 4,
   "id": "bb83502b-75e6-4e4d-81d0-e0d86ac856a9",
   "metadata": {},
   "outputs": [],
   "source": [
    "import pdfplumber\n",
    "from pandas import DataFrame"
   ]
  },
  {
   "cell_type": "markdown",
   "id": "a66ef716-8472-4deb-a7f4-fcd077502455",
   "metadata": {},
   "source": [
    "### Extração de todos os candidatos da Matemática do documento da 1ª fase"
   ]
  },
  {
   "cell_type": "code",
   "execution_count": 5,
   "id": "e50a2424-5242-4812-bce6-63b0b4b03806",
   "metadata": {},
   "outputs": [],
   "source": [
    "with pdfplumber.open(arquivo) as pdf:\n",
    "    total_matematica_listagem = [\n",
    "        cel for pag in pdf.pages\n",
    "        for cel in pag.extract_table()\n",
    "        if cel[3] == 'MAT'\n",
    "    ]"
   ]
  },
  {
   "cell_type": "markdown",
   "id": "6283f688-cae4-4418-a749-c4321a382cf2",
   "metadata": {},
   "source": [
    "#### O total de candidatos para tutoria de Matemática para as 22 vagas abertas"
   ]
  },
  {
   "cell_type": "code",
   "execution_count": 7,
   "id": "fdb21662-603e-4f2a-bd69-df95ab385bed",
   "metadata": {},
   "outputs": [
    {
     "data": {
      "text/plain": [
       "175"
      ]
     },
     "execution_count": 7,
     "metadata": {},
     "output_type": "execute_result"
    }
   ],
   "source": [
    "len(total_matematica_listagem)"
   ]
  },
  {
   "cell_type": "markdown",
   "id": "6c257563-6077-4e8c-8c16-fc0843df462e",
   "metadata": {},
   "source": [
    "#### Etapa: Criação do quadro de dados (Data Frame)"
   ]
  },
  {
   "cell_type": "code",
   "execution_count": 8,
   "id": "a2e4faed-2a8a-479f-91e7-e0655b9ca7a9",
   "metadata": {},
   "outputs": [],
   "source": [
    "colunas= ['inscricao','nome','polo','disciplina','Local de Prova']"
   ]
  },
  {
   "cell_type": "code",
   "execution_count": 9,
   "id": "9d8c9673-ee54-4f81-9a86-e2493b983cc4",
   "metadata": {},
   "outputs": [],
   "source": [
    "df_cand_mat = DataFrame(total_matematica_listagem, columns=colunas)"
   ]
  },
  {
   "cell_type": "markdown",
   "id": "faeac088-969a-4e76-b383-f1c8aeba767b",
   "metadata": {},
   "source": [
    "#### Retirei as variáveis 'inscrição' e 'nome' p/ preservar os candidatos"
   ]
  },
  {
   "cell_type": "code",
   "execution_count": 12,
   "id": "8c8d5d97-b712-4675-9155-309c80c283bf",
   "metadata": {},
   "outputs": [
    {
     "data": {
      "text/html": [
       "<div>\n",
       "<style scoped>\n",
       "    .dataframe tbody tr th:only-of-type {\n",
       "        vertical-align: middle;\n",
       "    }\n",
       "\n",
       "    .dataframe tbody tr th {\n",
       "        vertical-align: top;\n",
       "    }\n",
       "\n",
       "    .dataframe thead th {\n",
       "        text-align: right;\n",
       "    }\n",
       "</style>\n",
       "<table border=\"1\" class=\"dataframe\">\n",
       "  <thead>\n",
       "    <tr style=\"text-align: right;\">\n",
       "      <th></th>\n",
       "      <th>polo</th>\n",
       "      <th>disciplina</th>\n",
       "      <th>Local de Prova</th>\n",
       "    </tr>\n",
       "  </thead>\n",
       "  <tbody>\n",
       "    <tr>\n",
       "      <th>0</th>\n",
       "      <td>VISC</td>\n",
       "      <td>MAT</td>\n",
       "      <td>ISERJ - Rua Mariz e Barros, 273 - Sala 217</td>\n",
       "    </tr>\n",
       "    <tr>\n",
       "      <th>1</th>\n",
       "      <td>SCRC</td>\n",
       "      <td>MAT</td>\n",
       "      <td>ISERJ - Rua Mariz e Barros, 273 - Sala 217</td>\n",
       "    </tr>\n",
       "    <tr>\n",
       "      <th>2</th>\n",
       "      <td>CGSP</td>\n",
       "      <td>MAT</td>\n",
       "      <td>ISERJ - Rua Mariz e Barros, 273 - Sala 121</td>\n",
       "    </tr>\n",
       "  </tbody>\n",
       "</table>\n",
       "</div>"
      ],
      "text/plain": [
       "   polo disciplina                              Local de Prova\n",
       "0  VISC        MAT  ISERJ - Rua Mariz e Barros, 273 - Sala 217\n",
       "1  SCRC        MAT  ISERJ - Rua Mariz e Barros, 273 - Sala 217\n",
       "2  CGSP        MAT  ISERJ - Rua Mariz e Barros, 273 - Sala 121"
      ]
     },
     "execution_count": 12,
     "metadata": {},
     "output_type": "execute_result"
    }
   ],
   "source": [
    "df_cand_mat[colunas[2:]].head(3)"
   ]
  },
  {
   "cell_type": "markdown",
   "id": "fb5ae740-56d0-4ddb-9aed-55f83c6b4cdd",
   "metadata": {},
   "source": [
    "### Etapa: Quantificar inscritos por polo"
   ]
  },
  {
   "cell_type": "code",
   "execution_count": 17,
   "id": "d30f3bb9-27e0-4c0e-b19d-94d5f8d1d8de",
   "metadata": {},
   "outputs": [],
   "source": [
    "df_total_polo = df_cand_mat[colunas[2:4]].groupby(by='polo').value_counts()"
   ]
  },
  {
   "cell_type": "code",
   "execution_count": 18,
   "id": "35cfa4f1-e3df-4a2e-a98f-1e0eb05debc2",
   "metadata": {},
   "outputs": [
    {
     "data": {
      "text/plain": [
       "polo  disciplina\n",
       "ARAM  MAT           10\n",
       "AREC  MAT            7\n",
       "BJDM  MAT            5\n",
       "BUZM  MAT            1\n",
       "CARM  MAT            4\n",
       "CF2M  MAT            3\n",
       "CGOC  MAT           12\n",
       "CGSP  MAT           20\n",
       "DQPM  MAT           10\n",
       "IGOC  MAT            4\n",
       "ITGC  MAT            5\n",
       "MESC  MAT           16\n",
       "MGPM  MAT            6\n",
       "PENC  MAT            6\n",
       "PETM  MAT            6\n",
       "RDOM  MAT            9\n",
       "RIBP  MAT            4\n",
       "SCRC  MAT           10\n",
       "SGOC  MAT           13\n",
       "TAGM  MAT            3\n",
       "VALC  MAT            3\n",
       "VISC  MAT           18\n",
       "Name: count, dtype: int64"
      ]
     },
     "execution_count": 18,
     "metadata": {},
     "output_type": "execute_result"
    }
   ],
   "source": [
    "df_total_polo"
   ]
  }
 ],
 "metadata": {
  "kernelspec": {
   "display_name": "Python 3 (ipykernel)",
   "language": "python",
   "name": "python3"
  },
  "language_info": {
   "codemirror_mode": {
    "name": "ipython",
    "version": 3
   },
   "file_extension": ".py",
   "mimetype": "text/x-python",
   "name": "python",
   "nbconvert_exporter": "python",
   "pygments_lexer": "ipython3",
   "version": "3.10.12"
  }
 },
 "nbformat": 4,
 "nbformat_minor": 5
}
